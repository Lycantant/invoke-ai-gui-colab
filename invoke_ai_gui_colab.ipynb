{
 "cells": [
  {
   "attachments": {},
   "cell_type": "markdown",
   "metadata": {
    "id": "V78TAa3W-9WN"
   },
   "source": [
    "### To use Invoke Ai, launch the code in every form below.\n",
    "You will need an account on [ngrok](https://dashboard.ngrok.com/login)\n",
    "\n",
    "Requires 13 Gb of space on a Google disk\n",
    "\n",
    "####**[Original Repo](https://github.com/peaashmeter/invoke-ai-gui-colab)**\n",
    "####**[This Repo](https://github.com/Lycantant/invoke-ai-gui-colab/)**"
   ]
  },
  {
   "cell_type": "code",
   "execution_count": null,
   "metadata": {
    "id": "hqe0rPfs6wJ3"
   },
   "outputs": [],
   "source": [
    "from google.colab import drive\n",
    "drive.mount('/content/drive')"
   ]
  },
  {
   "cell_type": "code",
   "execution_count": null,
   "metadata": {
    "cellView": "form",
    "id": "G5LfQaWe0bHK"
   },
   "outputs": [],
   "source": [
    "#@title During this stage, Colab crashes, it's normal\n",
    "!pip install -q condacolab\n",
    "import condacolab\n",
    "condacolab.install()"
   ]
  },
  {
   "cell_type": "code",
   "execution_count": null,
   "metadata": {
    "id": "U-4vMQGrGXx8"
   },
   "outputs": [],
   "source": [
    "#@title Installing Invoke Ai { display-mode: \"form\" }\n",
    "%cd /home\n",
    "\n",
    "!git clone -n https://github.com/invoke-ai/InvokeAI.git\n",
    "%cd InvokeAI\n",
    "!git checkout tags/v2.2.5\n",
    "\n",
    "!ln -sf environments-and-requirements/environment-lin-cuda.yml environment.yml\n",
    "!ls -la\n",
    "\n",
    "%cd ..\n",
    "\n",
    "!git clone https://github.com/Lycantant/invoke-ai-gui-colab.git\n",
    "\n",
    "%cd invoke-ai-gui-colab\n",
    "\n",
    "%cp cross_attention_control.py ../InvokeAI/ldm/models/diffusion/cross_attention_control.py\n",
    "%cp globals.py ../InvokeAI/ldm/invoke/globals.py"
   ]
  },
  {
   "cell_type": "code",
   "execution_count": null,
   "metadata": {
    "id": "0z1VLnSGQyrx"
   },
   "outputs": [],
   "source": [
    "#@title Installation normally takes ~10 minutes { display-mode: \"form\" }\n",
    "%cd ../InvokeAI\n",
    "!pip install pyngrok --quiet\n",
    "!conda env update\n",
    "!source activate invokeai ; python scripts/configure_invokeai.py --yes\n",
    "\n",
    "%cp ../invoke-ai-gui-colab/models.yaml /root/invokeai/configs"
   ]
  },
  {
   "cell_type": "code",
   "execution_count": null,
   "metadata": {
    "id": "OzFl5cmndBrd"
   },
   "outputs": [],
   "source": [
    "#@title Installation of Stable_Diffusion_15_default (requires 13 Gb of space on a Google disk){ display-mode: \"form\" }\n",
    "import os\n",
    "\n",
    "os.system('cd /')\n",
    "os.system('mkdir -p /root/invokeai/models/ldm/stable-diffusion-v1')\n",
    "\n",
    "# sd 1.4\n",
    "if os.path.exists('/content/drive/MyDrive/models/sd-v1-4.ckpt'):\n",
    "    print('Model sd-v1-4.ckpt already exists')\n",
    "else:\n",
    "    print('Downloading Stable-Diffusion 1.4')\n",
    "    os.system('mkdir -p /content/drive/MyDrive/models/')\n",
    "    os.system('wget -O /content/drive/MyDrive/models/sd-v1-4.ckpt https://huggingface.co/CompVis/stable-diffusion-v-1-4-original/resolve/main/sd-v1-4.ckpt')\n",
    "\n",
    "# sd 1.5\n",
    "if os.path.exists('/content/drive/MyDrive/models/v1-5-pruned-emaonly.ckpt'):\n",
    "    print('Model v1-5-pruned-emaonly.ckpt already exists')\n",
    "else:\n",
    "    print('Downloading Stable-Diffusion 1.5')\n",
    "    os.system('mkdir -p /content/drive/MyDrive/models/')\n",
    "    os.system('wget -O /content/drive/MyDrive/models/v1-5-pruned-emaonly.ckpt https://huggingface.co/runwayml/stable-diffusion-v1-5/resolve/main/v1-5-pruned-emaonly.ckpt')\n",
    "\n",
    "# seekArtMega_v1\n",
    "if os.path.exists('/content/drive/MyDrive/models/seekArtMega_v1-ckpt.ckpt'):\n",
    "  print('Model seekArtMega_v1-ckpt.ckpt already exists')\n",
    "else:\n",
    "  print('Downloading seekArtMega_v1-ckpt.ckpt')\n",
    "  os.system('wget -O /content/drive/MyDrive/models/seekArtMega_v1-ckpt.ckpt https://huggingface.co/coreco/seek.art_MEGA/resolve/main/seek_art_mega_v1.ckpt')\n",
    "\n",
    "# openjourney v4\n",
    "if os.path.exists('/content/drive/MyDrive/models/mdjrny-v4.ckpt'):\n",
    "  print('Model mdjrny-v4.ckpt already exists')\n",
    "else:\n",
    "  print('Downloading mdjrny-v4.ckpt')\n",
    "  os.system('wget -O /content/drive/MyDrive/models/mdjrny-v4.ckpt https://huggingface.co/prompthero/openjourney/resolve/main/mdjrny-v4.ckpt')\n",
    "\n",
    "# vae\n",
    "if os.path.exists('/content/drive/MyDrive/models/vae-ft-mse-840000-ema-pruned.ckpt'):\n",
    "  print('Model vae-ft-mse-840000-ema-pruned.ckpt already exists')\n",
    "else:\n",
    "  print('Downloading SD-VAE')\n",
    "  os.system('wget -O /content/drive/MyDrive/models/vae-ft-mse-840000-ema-pruned.ckpt https://huggingface.co/stabilityai/sd-vae-ft-mse-original/resolve/main/vae-ft-mse-840000-ema-pruned.ckpt')\n",
    "\n",
    "# if not not os.path.exists('/content/drive/MyDrive/models/vae-ft-mse-840000-ema-pruned.ckpt'):\n",
    "# heelllp, what does `if not not` mean? I'm not familiar with programming, especially python -_-\n",
    "if not os.path.exists('/content/drive/MyDrive/models/vae-ft-mse-840000-ema-pruned.ckpt'):\n",
    "    print('vae-ft-mse-840000-ema-pruned.ckpt doesn\\'t exist')\n",
    "else:\n",
    "    print('Make sure you accept the terms at https://huggingface.co/stabilityai/sd-vae-ft-mse-original')\n",
    "\n",
    "# sd 1.4\n",
    "%mkdir -p /root/invokeai/models/ldm/stable-diffusion-v1/\n",
    "!ln -s  /content/drive/MyDrive/models/sd-v1-4.ckpt /root/invokeai/models/ldm/stable-diffusion-v1/sd-v1-4.ckpt\n",
    "!ls -l /root/invokeai/models/ldm/stable-diffusion-v1/sd-v1-4.ckpt\n",
    "\n",
    "# sd 1.5\n",
    "!ln -s  /content/drive/MyDrive/models/v1-5-pruned-emaonly.ckpt /root/invokeai/models/ldm/stable-diffusion-v1/v1-5-pruned-emaonly.ckpt\n",
    "!ls -l /root/invokeai/models/ldm/stable-diffusion-v1/v1-5-pruned-emaonly.ckpt\n",
    "\n",
    "# seekArtMega v1\n",
    "!ln -s  /content/drive/MyDrive/models/seekArtMega_v1-ckpt.ckpt /root/invokeai/models/ldm/stable-diffusion-v1/seekArtMega_v1-ckpt.ckpt\n",
    "!ls -l /root/invokeai/models/ldm/stable-diffusion-v1/seekArtMega_v1-ckpt.ckpt\n",
    "\n",
    "# openjourney v4\n",
    "!ln -s  /content/drive/MyDrive/models/mdjrny-v4.ckpt /root/invokeai/models/ldm/stable-diffusion-v1/mdjrny-v4.ckpt\n",
    "!ls -l /root/invokeai/models/ldm/stable-diffusion-v1/mdjrny-v4.ckpt\n",
    "\n",
    "# vae\n",
    "!ln -s  /content/drive/MyDrive/models/vae-ft-mse-840000-ema-pruned.ckpt /root/invokeai/models/ldm/stable-diffusion-v1/vae-ft-mse-840000-ema-pruned.ckpt\n",
    "!ls -l /root/invokeai/models/ldm/stable-diffusion-v1/vae-ft-mse-840000-ema-pruned.ckpt"
   ]
  },
  {
   "cell_type": "code",
   "execution_count": null,
   "metadata": {
    "id": "C826ebQkb_OQ"
   },
   "outputs": [],
   "source": [
    "#@title Running Invoke AI service { display-mode: \"both\" }\n",
    "#@markdown Go to [ngrok](https://dashboard.ngrok.com/get-started/your-authtoken) , and paste your authtoken here.\n",
    "\n",
    "ngrok_token = \"\" #@param {type:\"string\"}\n",
    "nsfw_checker = 0 #@param {type:\"slider\", min:0, max:1, step:1}\n",
    "used_vae = \"vae-ft-mse-840000-ema-pruned\" #@param [\"vae-ft-mse-840000-ema-pruned\"]\n",
    "\n",
    "import os\n",
    "from pyngrok import ngrok\n",
    "\n",
    "ngrok.kill()\n",
    "ngrok.set_auth_token(ngrok_token)\n",
    "public_url = ngrok.connect(9090).public_url\n",
    "print(f'Invoke Ai public url: {public_url}')\n",
    "\n",
    "%cd /home/InvokeAI\n",
    "\n",
    "model_name = \"Stable_Diffusion_15_default\"\n",
    "if used_vae == \"vae-ft-mse-840000-ema-pruned\":\n",
    "    model_name = \"Stable_Diffusion_15_default\"\n",
    "\n",
    "if nsfw_checker:\n",
    "    !source activate invokeai ; python scripts/invoke.py --web --model $model_name\n",
    "else:\n",
    "    !source activate invokeai ; python scripts/invoke.py --web --no-nsfw_checker --model $model_name"
   ]
  },
  {
   "attachments": {},
   "cell_type": "markdown",
   "metadata": {
    "id": "ckMayfYdkOmF"
   },
   "source": [
    "### Wait until the local url (`http://localhost:9090`) is available.\n",
    "### Then click/open public url, it will look something like this `http://3877-35-204-151-175.ngrok.io`\n",
    "### Refresh the page if you see a blank white screen\n",
    "---"
   ]
  }
 ],
 "metadata": {
  "accelerator": "GPU",
  "colab": {
   "provenance": []
  },
  "gpuClass": "standard",
  "kernelspec": {
   "display_name": "Python 3",
   "language": "python",
   "name": "python3"
  },
  "language_info": {
   "codemirror_mode": {
    "name": "ipython",
    "version": 3
   },
   "file_extension": ".py",
   "mimetype": "text/x-python",
   "name": "python",
   "nbconvert_exporter": "python",
   "pygments_lexer": "ipython3",
   "version": "3.10.9 (tags/v3.10.9:1dd9be6, Dec  6 2022, 20:01:21) [MSC v.1934 64 bit (AMD64)]"
  },
  "vscode": {
   "interpreter": {
    "hash": "4534aa43154a8453a45e203b4cc523573eebe5acad81d620b091a3e0a7f47562"
   }
  }
 },
 "nbformat": 4,
 "nbformat_minor": 4
}
