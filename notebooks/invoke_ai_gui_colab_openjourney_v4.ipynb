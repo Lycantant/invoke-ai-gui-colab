{
 "cells": [
  {
   "attachments": {},
   "cell_type": "markdown",
   "metadata": {
    "id": "V78TAa3W-9WN"
   },
   "source": [
    "This notebook is specific to the [Openjourney](https://huggingface.co/prompthero/openjourney) model only. Want to use another model? check [here](https://github.com/Lycantant/invoke-ai-gui-colab). <br>\n",
    "\n",
    "Not familiar with the prompt technique used in InvokeAi? Read [here](https://invoke-ai.github.io/InvokeAI/features/PROMPTS/). And also each model has a different prompt technique. So you should read the links above carefully before starting, so your time will not be wasted.\n",
    "\n",
    "---\n",
    "## Requirements\n",
    "1. Login to ngrok [here](https://dashboard.ngrok.com/login), and create authtoken [here](https://dashboard.ngrok.com/get-started/your-authtoken).\n",
    "2. Requires 3 Gb disk space on a [Google Drive](https://drive.google.com/drive/my-drive)\n",
    "3. Don't rush, launch code in each form below one by one.\n",
    "---\n",
    "####Visit my Github repo [here](https://github.com/Lycantant/invoke-ai-gui-colab/).\n",
    "Give a ⭐ if you like it 😁 <br>\n",
    "Semoga beruntung 🙂"
   ]
  },
  {
   "cell_type": "code",
   "execution_count": null,
   "metadata": {
    "id": "hqe0rPfs6wJ3"
   },
   "outputs": [],
   "source": [
    "# @title 01. Mount Google Drive\n",
    "from google.colab import drive\n",
    "drive.mount('/content/drive')"
   ]
  },
  {
   "cell_type": "code",
   "execution_count": null,
   "metadata": {
    "cellView": "form",
    "id": "G5LfQaWe0bHK"
   },
   "outputs": [],
   "source": [
    "#@title 02. During this stage, Colab crashes, it's normal\n",
    "!pip install -q condacolab\n",
    "import condacolab\n",
    "condacolab.install()"
   ]
  },
  {
   "cell_type": "code",
   "execution_count": null,
   "metadata": {
    "id": "U-4vMQGrGXx8"
   },
   "outputs": [],
   "source": [
    "#@title 03. Installing [InvokeAi](https://github.com/invoke-ai/InvokeAI) { display-mode: \"form\" }\n",
    "%cd /home\n",
    "\n",
    "!git clone -n https://github.com/invoke-ai/InvokeAI.git\n",
    "%cd InvokeAI\n",
    "!git checkout tags/v2.2.5\n",
    "\n",
    "!ln -sf environments-and-requirements/environment-lin-cuda.yml environment.yml\n",
    "!ls -la\n",
    "\n",
    "%cd ..\n",
    "\n",
    "!git clone https://github.com/Lycantant/invoke-ai-gui-colab.git\n",
    "\n",
    "%cd invoke-ai-gui-colab\n",
    "\n",
    "%cp cross_attention_control.py ../InvokeAI/ldm/models/diffusion/cross_attention_control.py\n",
    "%cp globals.py ../InvokeAI/ldm/invoke/globals.py"
   ]
  },
  {
   "cell_type": "code",
   "execution_count": null,
   "metadata": {
    "id": "0z1VLnSGQyrx"
   },
   "outputs": [],
   "source": [
    "#@title 04. Installation normally takes ~10 minutes { display-mode: \"form\" }\n",
    "%cd ../InvokeAI\n",
    "!pip install pyngrok --quiet\n",
    "!conda env update\n",
    "!source activate invokeai ; python scripts/configure_invokeai.py --skip-sd-weights --yes\n",
    "\n",
    "%cp ../invoke-ai-gui-colab/models_yaml/models_openjourney_v4.yaml /root/invokeai/configs/models.yaml"
   ]
  },
  {
   "cell_type": "code",
   "execution_count": null,
   "metadata": {
    "id": "OzFl5cmndBrd"
   },
   "outputs": [],
   "source": [
    "#@title 05. Downloading Openjourney model (requires 3 Gb disk space on a Google Drive){ display-mode: \"form\" }\n",
    "import os\n",
    "\n",
    "os.system('cd /')\n",
    "os.system('mkdir -p /root/invokeai/models/ldm/stable-diffusion-v1')\n",
    "\n",
    "# openjourney v4\n",
    "if os.path.exists('/content/drive/MyDrive/models/mdjrny-v4.ckpt'):\n",
    "  print('Model mdjrny-v4.ckpt already exists')\n",
    "else:\n",
    "  print('Downloading mdjrny-v4.ckpt')\n",
    "  os.system('wget -O /content/drive/MyDrive/models/mdjrny-v4.ckpt https://huggingface.co/prompthero/openjourney/resolve/main/mdjrny-v4.ckpt')\n",
    "\n",
    "# vae\n",
    "if os.path.exists('/content/drive/MyDrive/models/vae-ft-mse-840000-ema-pruned.ckpt'):\n",
    "  print('Model vae-ft-mse-840000-ema-pruned.ckpt already exists')\n",
    "else:\n",
    "  print('Downloading SD-VAE')\n",
    "  os.system('wget -O /content/drive/MyDrive/models/vae-ft-mse-840000-ema-pruned.ckpt https://huggingface.co/stabilityai/sd-vae-ft-mse-original/resolve/main/vae-ft-mse-840000-ema-pruned.ckpt')\n",
    "\n",
    "# openjourney v4\n",
    "!ln -s  /content/drive/MyDrive/models/mdjrny-v4.ckpt /root/invokeai/models/ldm/stable-diffusion-v1/mdjrny-v4.ckpt\n",
    "!ls -l /root/invokeai/models/ldm/stable-diffusion-v1/mdjrny-v4.ckpt\n",
    "\n",
    "# vae\n",
    "!ln -s  /content/drive/MyDrive/models/vae-ft-mse-840000-ema-pruned.ckpt /root/invokeai/models/ldm/stable-diffusion-v1/vae-ft-mse-840000-ema-pruned.ckpt\n",
    "!ls -l /root/invokeai/models/ldm/stable-diffusion-v1/vae-ft-mse-840000-ema-pruned.ckpt"
   ]
  },
  {
   "cell_type": "code",
   "execution_count": null,
   "metadata": {
    "id": "C826ebQkb_OQ"
   },
   "outputs": [],
   "source": [
    "#@title 06. Running Invoke AI service { display-mode: \"both\" }\n",
    "#@markdown Go to [ngrok](https://dashboard.ngrok.com/get-started/your-authtoken) , and paste your authtoken here.\n",
    "\n",
    "ngrok_token = \"\" #@param {type:\"string\"}\n",
    "nsfw_checker = 0 #@param {type:\"slider\", min:0, max:1, step:1}\n",
    "used_vae = \"vae-ft-mse-840000-ema-pruned\" #@param [\"vae-ft-mse-840000-ema-pruned\"]\n",
    "\n",
    "import os\n",
    "from pyngrok import ngrok\n",
    "\n",
    "ngrok.kill()\n",
    "ngrok.set_auth_token(ngrok_token)\n",
    "public_url = ngrok.connect(9090).public_url\n",
    "print(f'Invoke Ai public url: {public_url}')\n",
    "\n",
    "%cd /home/InvokeAI\n",
    "\n",
    "model_name = \"openjourney_v4\"\n",
    "if used_vae == \"vae-ft-mse-840000-ema-pruned\":\n",
    "    model_name = \"openjourney_v4\"\n",
    "\n",
    "if nsfw_checker:\n",
    "    !source activate invokeai ; python scripts/invoke.py --web --model $model_name\n",
    "else:\n",
    "    !source activate invokeai ; python scripts/invoke.py --web --no-nsfw_checker --outdir \"/content/drive/MyDrive/outputs\" --model $model_name"
   ]
  },
  {
   "attachments": {},
   "cell_type": "markdown",
   "metadata": {
    "id": "ckMayfYdkOmF"
   },
   "source": [
    "#### Wait until the local url (`http://localhost:9090`) is available.\n",
    "#### Then click/open public url, it will look something like this ➡ `http://3877-35-204-151-175.ngrok.io`\n",
    "#### Refresh the page if you see a blank screen\n",
    "---\n",
    "Semoga beruntung 😀"
   ]
  }
 ],
 "metadata": {
  "accelerator": "GPU",
  "colab": {
   "provenance": []
  },
  "gpuClass": "standard",
  "kernelspec": {
   "display_name": "Python 3",
   "language": "python",
   "name": "python3"
  },
  "language_info": {
   "codemirror_mode": {
    "name": "ipython",
    "version": 3
   },
   "file_extension": ".py",
   "mimetype": "text/x-python",
   "name": "python",
   "nbconvert_exporter": "python",
   "pygments_lexer": "ipython3",
   "version": "3.10.9 (tags/v3.10.9:1dd9be6, Dec  6 2022, 20:01:21) [MSC v.1934 64 bit (AMD64)]"
  },
  "vscode": {
   "interpreter": {
    "hash": "4534aa43154a8453a45e203b4cc523573eebe5acad81d620b091a3e0a7f47562"
   }
  }
 },
 "nbformat": 4,
 "nbformat_minor": 4
}
